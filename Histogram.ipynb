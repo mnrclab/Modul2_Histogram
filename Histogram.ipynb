{
 "cells": [
  {
   "cell_type": "markdown",
   "metadata": {},
   "source": [
    "# Data Visualization\n",
    "\n",
    "<hr>\n",
    "\n",
    "# __Histogram__"
   ]
  },
  {
   "cell_type": "markdown",
   "metadata": {},
   "source": [
    "<img src = 'https://nextviewventures.com/wp-content/uploads/2018/09/Bell-Curve-Graph-1.jpg'>\n",
    "\n",
    "_A histogram is used to summarize discrete or continuous data. In other words, it provides a visual interpretation of numerical data by showing the number of data points that fall within a specified range of values (called “bins”). It is similar to a vertical bar graph. However, a histogram, unlike a vertical bar graph, shows no gaps between the bars._\n",
    "\n",
    "\n",
    "### **What is Histogram?**\n",
    "\n",
    "``Wikipedia``\n",
    "\n",
    "A histogram is an accurate graphical representation of the distribution of numerical data. It is an estimate of the probability distribution of a continuous variable (quantitative variable) and was first introduced by Karl Pearson. \n",
    "\n",
    "It is a kind of bar graph. To construct a histogram, the first step is to “bin” the range of values — that is, divide the entire range of values into a series of intervals — and then count how many values fall into each interval. The bins are usually specified as consecutive, non-overlapping intervals of a variable. The bins (intervals) must be adjacent, and are often (but are not required to be) of equal size.\n",
    "\n",
    "Basically, histograms are used to represent data given in form of some groups. X-axis is about bin ranges where Y-axis talks about frequency. So, if you want to represent age wise population in form of graph then histogram suits well as it tells you how many exists in certain group range or bin, if you talk in context of histograms."
   ]
  },
  {
   "cell_type": "markdown",
   "metadata": {},
   "source": [
    "### __Parts of a Histogram__\n",
    "\n",
    "1.    __The title__: The title describes the information included in the histogram.\n",
    "2.    __X-axis__: The X-axis are intervals that show the scale of values which the measurements fall under.\n",
    "3.    __Y-axis__: The Y-axis shows the number of times that the values occurred within the intervals set by the X-axis.\n",
    "4.    __The bar__s: The height of the bar shows the number of times that the values occurred within the interval, while the width of the bar shows the interval that is covered. For a histogram with equal bins, the width should be the same across all bars."
   ]
  },
  {
   "cell_type": "markdown",
   "metadata": {},
   "source": [
    "### __Difference between a bar graph & a histogram__:\n",
    "\n",
    "Well, this is still a confusion for most of us b/w bar chart & histogram. Here’s a major difference: Histogram is a 1D representation of a single variable, whereas a bar graph is a 2D representation of two independent variables.\n",
    "\n",
    "``The major difference is that a histogram is only used to plot the frequency of score occurrences in a continuous data set that has been divided into classes, called bins. Bar charts, on the other hand, can be used for a great deal of other types of variables including ordinal and nominal data sets.``\n",
    "\n",
    "<img src = 'https://miro.medium.com/max/1400/1*k3P4QCIMcHquFV-fiTxGog.jpeg' width=\"700\" height=\"750\"/>"
   ]
  },
  {
   "cell_type": "markdown",
   "metadata": {},
   "source": [
    "<hr>\n",
    "\n",
    "### __Information that we need to explain from Histogram__\n",
    "#### 1. Central Tendency (Mean & Modus)\n",
    "#### 2. Dispersion (Standard Deviation)\n",
    "#### 3. Skewness & Kurtosis \n",
    "#### 4. Outliers\n",
    "\n",
    "<hr>"
   ]
  },
  {
   "cell_type": "markdown",
   "metadata": {},
   "source": [
    "# __NBA Dataset__"
   ]
  },
  {
   "cell_type": "code",
   "execution_count": 1,
   "metadata": {},
   "outputs": [],
   "source": [
    "import numpy as np\n",
    "\n",
    "# visualization\n",
    "import pandas as pd\n",
    "import seaborn as sns\n",
    "import matplotlib.pyplot as plt\n",
    "\n",
    "#statistic\n",
    "from scipy import stats"
   ]
  },
  {
   "cell_type": "code",
   "execution_count": 2,
   "metadata": {},
   "outputs": [
    {
     "data": {
      "text/html": [
       "<div>\n",
       "<style scoped>\n",
       "    .dataframe tbody tr th:only-of-type {\n",
       "        vertical-align: middle;\n",
       "    }\n",
       "\n",
       "    .dataframe tbody tr th {\n",
       "        vertical-align: top;\n",
       "    }\n",
       "\n",
       "    .dataframe thead th {\n",
       "        text-align: right;\n",
       "    }\n",
       "</style>\n",
       "<table border=\"1\" class=\"dataframe\">\n",
       "  <thead>\n",
       "    <tr style=\"text-align: right;\">\n",
       "      <th></th>\n",
       "      <th>Name</th>\n",
       "      <th>Team</th>\n",
       "      <th>Number</th>\n",
       "      <th>Position</th>\n",
       "      <th>Age</th>\n",
       "      <th>Height</th>\n",
       "      <th>Weight</th>\n",
       "      <th>College</th>\n",
       "      <th>Salary</th>\n",
       "    </tr>\n",
       "  </thead>\n",
       "  <tbody>\n",
       "    <tr>\n",
       "      <th>0</th>\n",
       "      <td>Avery Bradley</td>\n",
       "      <td>Boston Celtics</td>\n",
       "      <td>0.0</td>\n",
       "      <td>PG</td>\n",
       "      <td>25.0</td>\n",
       "      <td>6-2</td>\n",
       "      <td>180.0</td>\n",
       "      <td>Texas</td>\n",
       "      <td>7730337.0</td>\n",
       "    </tr>\n",
       "    <tr>\n",
       "      <th>1</th>\n",
       "      <td>Jae Crowder</td>\n",
       "      <td>Boston Celtics</td>\n",
       "      <td>99.0</td>\n",
       "      <td>SF</td>\n",
       "      <td>25.0</td>\n",
       "      <td>6-6</td>\n",
       "      <td>235.0</td>\n",
       "      <td>Marquette</td>\n",
       "      <td>6796117.0</td>\n",
       "    </tr>\n",
       "    <tr>\n",
       "      <th>2</th>\n",
       "      <td>John Holland</td>\n",
       "      <td>Boston Celtics</td>\n",
       "      <td>30.0</td>\n",
       "      <td>SG</td>\n",
       "      <td>27.0</td>\n",
       "      <td>6-5</td>\n",
       "      <td>205.0</td>\n",
       "      <td>Boston University</td>\n",
       "      <td>NaN</td>\n",
       "    </tr>\n",
       "    <tr>\n",
       "      <th>3</th>\n",
       "      <td>R.J. Hunter</td>\n",
       "      <td>Boston Celtics</td>\n",
       "      <td>28.0</td>\n",
       "      <td>SG</td>\n",
       "      <td>22.0</td>\n",
       "      <td>6-5</td>\n",
       "      <td>185.0</td>\n",
       "      <td>Georgia State</td>\n",
       "      <td>1148640.0</td>\n",
       "    </tr>\n",
       "    <tr>\n",
       "      <th>4</th>\n",
       "      <td>Jonas Jerebko</td>\n",
       "      <td>Boston Celtics</td>\n",
       "      <td>8.0</td>\n",
       "      <td>PF</td>\n",
       "      <td>29.0</td>\n",
       "      <td>6-10</td>\n",
       "      <td>231.0</td>\n",
       "      <td>NaN</td>\n",
       "      <td>5000000.0</td>\n",
       "    </tr>\n",
       "  </tbody>\n",
       "</table>\n",
       "</div>"
      ],
      "text/plain": [
       "            Name            Team  Number Position   Age Height  Weight  \\\n",
       "0  Avery Bradley  Boston Celtics     0.0       PG  25.0    6-2   180.0   \n",
       "1    Jae Crowder  Boston Celtics    99.0       SF  25.0    6-6   235.0   \n",
       "2   John Holland  Boston Celtics    30.0       SG  27.0    6-5   205.0   \n",
       "3    R.J. Hunter  Boston Celtics    28.0       SG  22.0    6-5   185.0   \n",
       "4  Jonas Jerebko  Boston Celtics     8.0       PF  29.0   6-10   231.0   \n",
       "\n",
       "             College     Salary  \n",
       "0              Texas  7730337.0  \n",
       "1          Marquette  6796117.0  \n",
       "2  Boston University        NaN  \n",
       "3      Georgia State  1148640.0  \n",
       "4                NaN  5000000.0  "
      ]
     },
     "execution_count": 2,
     "metadata": {},
     "output_type": "execute_result"
    }
   ],
   "source": [
    "# open dataset\n",
    "df = pd.read_csv('nba.csv')\n",
    "df.head()"
   ]
  },
  {
   "cell_type": "code",
   "execution_count": 3,
   "metadata": {},
   "outputs": [
    {
     "name": "stdout",
     "output_type": "stream",
     "text": [
      "<class 'pandas.core.frame.DataFrame'>\n",
      "RangeIndex: 458 entries, 0 to 457\n",
      "Data columns (total 9 columns):\n",
      " #   Column    Non-Null Count  Dtype  \n",
      "---  ------    --------------  -----  \n",
      " 0   Name      457 non-null    object \n",
      " 1   Team      457 non-null    object \n",
      " 2   Number    457 non-null    float64\n",
      " 3   Position  457 non-null    object \n",
      " 4   Age       457 non-null    float64\n",
      " 5   Height    457 non-null    object \n",
      " 6   Weight    457 non-null    float64\n",
      " 7   College   373 non-null    object \n",
      " 8   Salary    446 non-null    float64\n",
      "dtypes: float64(4), object(5)\n",
      "memory usage: 23.3+ KB\n"
     ]
    }
   ],
   "source": [
    "# cek kondisi data -> non-null \n",
    "df.info()"
   ]
  },
  {
   "cell_type": "code",
   "execution_count": 4,
   "metadata": {},
   "outputs": [
    {
     "data": {
      "text/plain": [
       "Name         1\n",
       "Team         1\n",
       "Number       1\n",
       "Position     1\n",
       "Age          1\n",
       "Height       1\n",
       "Weight       1\n",
       "College     85\n",
       "Salary      12\n",
       "dtype: int64"
      ]
     },
     "execution_count": 4,
     "metadata": {},
     "output_type": "execute_result"
    }
   ],
   "source": [
    "# cek missing values\n",
    "df.isnull().sum()"
   ]
  },
  {
   "cell_type": "code",
   "execution_count": 5,
   "metadata": {},
   "outputs": [],
   "source": [
    "df.dropna(inplace=True)"
   ]
  },
  {
   "cell_type": "code",
   "execution_count": 6,
   "metadata": {},
   "outputs": [
    {
     "data": {
      "text/plain": [
       "Name        0\n",
       "Team        0\n",
       "Number      0\n",
       "Position    0\n",
       "Age         0\n",
       "Height      0\n",
       "Weight      0\n",
       "College     0\n",
       "Salary      0\n",
       "dtype: int64"
      ]
     },
     "execution_count": 6,
     "metadata": {},
     "output_type": "execute_result"
    }
   ],
   "source": [
    "df.isna().sum()"
   ]
  },
  {
   "cell_type": "code",
   "execution_count": 7,
   "metadata": {},
   "outputs": [
    {
     "data": {
      "text/html": [
       "<div>\n",
       "<style scoped>\n",
       "    .dataframe tbody tr th:only-of-type {\n",
       "        vertical-align: middle;\n",
       "    }\n",
       "\n",
       "    .dataframe tbody tr th {\n",
       "        vertical-align: top;\n",
       "    }\n",
       "\n",
       "    .dataframe thead th {\n",
       "        text-align: right;\n",
       "    }\n",
       "</style>\n",
       "<table border=\"1\" class=\"dataframe\">\n",
       "  <thead>\n",
       "    <tr style=\"text-align: right;\">\n",
       "      <th></th>\n",
       "      <th>count</th>\n",
       "      <th>mean</th>\n",
       "      <th>std</th>\n",
       "      <th>min</th>\n",
       "      <th>25%</th>\n",
       "      <th>50%</th>\n",
       "      <th>75%</th>\n",
       "      <th>max</th>\n",
       "    </tr>\n",
       "  </thead>\n",
       "  <tbody>\n",
       "    <tr>\n",
       "      <th>Number</th>\n",
       "      <td>364.0</td>\n",
       "      <td>1.682967e+01</td>\n",
       "      <td>1.499416e+01</td>\n",
       "      <td>0.0</td>\n",
       "      <td>5.0</td>\n",
       "      <td>12.0</td>\n",
       "      <td>25.00</td>\n",
       "      <td>99.0</td>\n",
       "    </tr>\n",
       "    <tr>\n",
       "      <th>Age</th>\n",
       "      <td>364.0</td>\n",
       "      <td>2.661538e+01</td>\n",
       "      <td>4.233591e+00</td>\n",
       "      <td>19.0</td>\n",
       "      <td>24.0</td>\n",
       "      <td>26.0</td>\n",
       "      <td>29.00</td>\n",
       "      <td>40.0</td>\n",
       "    </tr>\n",
       "    <tr>\n",
       "      <th>Weight</th>\n",
       "      <td>364.0</td>\n",
       "      <td>2.197857e+02</td>\n",
       "      <td>2.479310e+01</td>\n",
       "      <td>161.0</td>\n",
       "      <td>200.0</td>\n",
       "      <td>220.0</td>\n",
       "      <td>240.00</td>\n",
       "      <td>279.0</td>\n",
       "    </tr>\n",
       "    <tr>\n",
       "      <th>Salary</th>\n",
       "      <td>364.0</td>\n",
       "      <td>4.620311e+06</td>\n",
       "      <td>5.119716e+06</td>\n",
       "      <td>55722.0</td>\n",
       "      <td>1000000.0</td>\n",
       "      <td>2515440.0</td>\n",
       "      <td>6149694.25</td>\n",
       "      <td>22875000.0</td>\n",
       "    </tr>\n",
       "  </tbody>\n",
       "</table>\n",
       "</div>"
      ],
      "text/plain": [
       "        count          mean           std      min        25%        50%  \\\n",
       "Number  364.0  1.682967e+01  1.499416e+01      0.0        5.0       12.0   \n",
       "Age     364.0  2.661538e+01  4.233591e+00     19.0       24.0       26.0   \n",
       "Weight  364.0  2.197857e+02  2.479310e+01    161.0      200.0      220.0   \n",
       "Salary  364.0  4.620311e+06  5.119716e+06  55722.0  1000000.0  2515440.0   \n",
       "\n",
       "               75%         max  \n",
       "Number       25.00        99.0  \n",
       "Age          29.00        40.0  \n",
       "Weight      240.00       279.0  \n",
       "Salary  6149694.25  22875000.0  "
      ]
     },
     "execution_count": 7,
     "metadata": {},
     "output_type": "execute_result"
    }
   ],
   "source": [
    "df.describe().T"
   ]
  },
  {
   "cell_type": "markdown",
   "metadata": {},
   "source": [
    "<hr>\n",
    "\n",
    "# __How to Visualize the Distribution using Histogram__\n",
    "\n",
    "## 1. __Matplotlib__\n",
    "\n",
    "First off, you’ll already know Matplotlib by now. When you talk about “Matplotlib”, you talk about the whole Python data visualization package. This should not come to you as a big surprise :)\n",
    "\n",
    "Secondly, pyplot is a module in the matplotlib package. That’s why you often see matplotlib.pyplot in code. The module provides an interface that allows you to implicitly and automatically create figures and axes to achieve the desired plot.\n",
    "\n",
    "### __Basic Command:__ plt.hist()"
   ]
  },
  {
   "cell_type": "code",
   "execution_count": 10,
   "metadata": {},
   "outputs": [
    {
     "data": {
      "image/png": "[encoded data removed]",
      "text/plain": [
       "<Figure size 432x288 with 1 Axes>"
      ]
     },
     "metadata": {
      "needs_background": "light"
     },
     "output_type": "display_data"
    }
   ],
   "source": [
    "plt.hist(df['Age']) # membuat plot histogram pada data df['Age']\n",
    "plt.show() # langsung menampilkan plot tanpa menjelaskan proses data & jika ada multi plot kita bisa menampilkan semuanya"
   ]
  },
  {
   "cell_type": "code",
   "execution_count": 43,
   "metadata": {},
   "outputs": [
    {
     "data": {
      "image/png": "[encoded data removed]",
      "text/plain": [
       "<Figure size 576x396 with 1 Axes>"
      ]
     },
     "metadata": {},
     "output_type": "display_data"
    }
   ],
   "source": [
    "# mengganti style pada plot\n",
    "plt.style.use('seaborn')\n",
    "\n",
    "# membuat plot histogram\n",
    "plt.hist(df['Age'], 5, color='brown') # mengatur bins dan warna\n",
    "\n",
    "#menambahkan judul di atas plot\n",
    "plt.title('Histogram Usia Pemain NBA', size=20)\n",
    "\n",
    "#menambahkan keterangan di sumbu x\n",
    "plt.xlabel('Usia Pemain NBA', size=15)\n",
    "\n",
    "#menambahkan keterangan di sumbu y\n",
    "plt.ylabel('Frekuensi', size=15)\n",
    "\n",
    "#menambahkan grid\n",
    "plt.grid(True)\n",
    "\n",
    "# menambahkan legend\n",
    "plt.legend(['Usia Pemain'], loc=0) # loc=0 berarti akan memilih tempat terbaik di sisi histogram\n",
    "\n",
    "# menyimpan plot\n",
    "plt.savefig('my_Age_Histogram.png')\n",
    "\n",
    "plt.show()"
   ]
  },
  {
   "cell_type": "markdown",
   "metadata": {},
   "source": [
    "## Creating Multiplot in One Canvas/Figure"
   ]
  },
  {
   "cell_type": "code",
   "execution_count": 53,
   "metadata": {},
   "outputs": [
    {
     "data": {
      "image/png": "[encoded data removed]",
      "text/plain": [
       "<Figure size 576x396 with 2 Axes>"
      ]
     },
     "metadata": {},
     "output_type": "display_data"
    }
   ],
   "source": [
    "plt.figure('Tes')\n",
    "\n",
    "# plot ke-1\n",
    "plt.subplot(221) #membuat multiplot = ada 2 baris, 2 kolom, dan subplot ini berada di posisi 1\n",
    "plt.hist(df['Age'], 5, color='blue')\n",
    "plt.title('Histogram Usia Pemain NBA', size=10)\n",
    "plt.xlabel('Usia Pemain NBA', size=8)\n",
    "plt.ylabel('Frekuensi', size=8)\n",
    "plt.legend(['Usia Pemain'], loc=0)\n",
    "\n",
    "#plot ke-2\n",
    "plt.subplot(224) #membuat multiplot = ada 2 baris, 2 kolom, dan subplot ini berada di posisi 4\n",
    "plt.hist(df['Weight'], 5, color='green')\n",
    "plt.title('Histogram Berat Badan Pemain NBA', size=10)\n",
    "plt.xlabel('Berat Badan Pemain NBA', size=8)\n",
    "plt.ylabel('Frekuensi', size=8)\n",
    "plt.legend(['BB Pemain'], loc=0)\n",
    "\n",
    "plt.show()"
   ]
  },
  {
   "cell_type": "markdown",
   "metadata": {},
   "source": [
    "## Creating Multiplot & Multi Figure"
   ]
  },
  {
   "cell_type": "code",
   "execution_count": 54,
   "metadata": {},
   "outputs": [
    {
     "data": {
      "image/png": "[encoded data removed]",
      "text/plain": [
       "<Figure size 576x396 with 2 Axes>"
      ]
     },
     "metadata": {},
     "output_type": "display_data"
    },
    {
     "data": {
      "image/png": "[encoded data removed]",
      "text/plain": [
       "<Figure size 576x396 with 2 Axes>"
      ]
     },
     "metadata": {},
     "output_type": "display_data"
    }
   ],
   "source": [
    "#FIGURE PERTAMA\n",
    "plt.figure('FIGURE SATU')\n",
    "\n",
    "#plot ke-01\n",
    "plt.subplot(322)\n",
    "plt.plot([1,2,3], [4,5,6])\n",
    "plt.title('Test 1')\n",
    "\n",
    "#plot ke-02\n",
    "plt.subplot(323)\n",
    "plt.plot([1,2,3], [4,5,6])\n",
    "plt.title('Test 2')\n",
    "\n",
    "plt.suptitle('Ini super title', size=20)\n",
    "\n",
    "# =====================================================\n",
    "#FIGURE KEDUA\n",
    "plt.figure('FIGURE DUA')\n",
    "\n",
    "#plot ke-01\n",
    "plt.subplot(322)\n",
    "plt.plot([1,2,3], [4,5,6])\n",
    "plt.title('Test 1')\n",
    "\n",
    "#plot ke-02\n",
    "plt.subplot(323)\n",
    "plt.plot([1,2,3], [4,5,6])\n",
    "plt.title('Test 2')\n",
    "\n",
    "plt.suptitle('Ini super title', size=20)\n",
    "\n",
    "plt.show()"
   ]
  },
  {
   "cell_type": "markdown",
   "metadata": {},
   "source": [
    "## __Take Class Exercise__\n",
    "\n",
    "#### 1. Buat 2 figure\n",
    "#### 2. Figure 1: buat subplot dengan ukuran baris ada 2 dan kolom ada 3\n",
    "#### 3. Figure 1: buat histogram ``df['Salary']`` di posisi 1 dan ``df['Number']`` di posisi 3\n",
    "\n",
    "#### 4. Figure 2: buat subplot dengan ukuran baris ada 2 dan kolom ada 3\n",
    "#### 3. Figure 2: buat histogram ``df['Age']`` di posisi 4 dan ``df['Weight']`` di posisi 6\n",
    "\n",
    "#### __Note__: Setiap plot beri warna berbeda"
   ]
  },
  {
   "cell_type": "markdown",
   "metadata": {},
   "source": [
    "<hr>\n",
    "\n",
    "## 2. __Seaborn__\n",
    "When dealing with a set of data, often the first thing you’ll want to do is get a sense for how the variables are distributed. This chapter of the tutorial will give a brief introduction to some of the tools in seaborn for examining univariate and bivariate distributions. \n",
    "\n",
    "### __Basic Command:__ Seaborn.distplot()"
   ]
  },
  {
   "cell_type": "code",
   "execution_count": 56,
   "metadata": {},
   "outputs": [
    {
     "data": {
      "text/plain": [
       "<matplotlib.axes._subplots.AxesSubplot at 0x11a3f3d0>"
      ]
     },
     "execution_count": 56,
     "metadata": {},
     "output_type": "execute_result"
    },
    {
     "data": {
      "image/png": "[encoded data removed]",
      "text/plain": [
       "<Figure size 576x396 with 1 Axes>"
      ]
     },
     "metadata": {},
     "output_type": "display_data"
    }
   ],
   "source": [
    "sns.distplot(df['Age'])"
   ]
  },
  {
   "cell_type": "code",
   "execution_count": 61,
   "metadata": {},
   "outputs": [
    {
     "data": {
      "image/png": "[encoded data removed]",
      "text/plain": [
       "<Figure size 576x396 with 1 Axes>"
      ]
     },
     "metadata": {},
     "output_type": "display_data"
    }
   ],
   "source": [
    "sns.distplot(df['Age'], kde=False, color='green')\n",
    "plt.title('Histogram Usia Pemain NBA', size=20)\n",
    "plt.show()"
   ]
  },
  {
   "cell_type": "markdown",
   "metadata": {},
   "source": [
    "<hr>\n",
    "\n",
    "## 3. __Pandas__\n",
    "### __Basic Command__: dataframe.hist()"
   ]
  },
  {
   "cell_type": "code",
   "execution_count": 66,
   "metadata": {},
   "outputs": [
    {
     "data": {
      "image/png": "[encoded data removed]",
      "text/plain": [
       "<Figure size 576x396 with 1 Axes>"
      ]
     },
     "metadata": {},
     "output_type": "display_data"
    }
   ],
   "source": [
    "df['Age'].hist(color='green')\n",
    "plt.title('Histogram Usia Pemain NBA', size=20)\n",
    "plt.show()"
   ]
  },
  {
   "cell_type": "markdown",
   "metadata": {},
   "source": [
    "<hr>\n",
    "\n",
    "# __Take Home Exercise__:\n",
    "### 1. Use dataset from web scrapping in last exercise!\n",
    "### 2. Create ``Boxplot`` to visualize population, area, & population density feature! Explain ``median, dispersion (IQR), & outlier`` in every feature!\n",
    "### 3. Create ``Histogram`` in ``Matplotlib`` to visualize population, area & population density feature! Explain ``mean & standar deviation`` in every feature! ``Add KDE line`` to your Histogram!\n",
    "### 4. Count how many countries in this group of population size:\n",
    "#### __Group A__: < 5.000.000\n",
    "#### __Group B__:  5.000.001 - 25.000.000\n",
    "#### __Group C__: 25.000.001 - 45.000.000\n",
    "#### __Group D__: 45.000.001 - 65.000.000\n",
    "#### __Group E__: > 65.000.000\n",
    "\n",
    "### 5. Create a DataFrame to count PMF & CDF in each Group of Population!\n",
    "\n",
    "#### __Note__: ``Use different color in each feature.``"
   ]
  },
  {
   "cell_type": "markdown",
   "metadata": {},
   "source": [
    "<hr>\n",
    "\n",
    "# __Reference__:\n",
    "- Seaborn, \"Visualizing the distribution of a dataset\", https://seaborn.pydata.org/tutorial/distributions.html\n",
    "- David Gladson, \"Matplotlib — Histograms Explained from Scratch | Python\", https://medium.com/towards-artificial-intelligence/matplotlib-histograms-explained-from-scratch-python-6fe3e9d26de3\n",
    "- https://www.datacamp.com/community/tutorials/matplotlib-tutorial-python\n",
    "- cmdline, \"How To Make Histogram in Python with Pandas and Seaborn?\", https://cmdlinetips.com/2019/02/how-to-make-histogram-in-python-with-pandas-and-seaborn/\n",
    "- Matplotlib Documentation, https://matplotlib.org/3.2.1/api/_as_gen/matplotlib.pyplot.hist.html\n",
    "- https://corporatefinanceinstitute.com/resources/excel/study/histogram/\n",
    "- CFI, \"Histogram\", https://corporatefinanceinstitute.com/resources/excel/study/histogram/\n",
    "- AERD Statistics, \"\"Histograms\", https://statistics.laerd.com/statistical-guides/understanding-histograms.php\n",
    "- Jim Frost, \"Using Histograms to Understand Your Data\", https://statisticsbyjim.com/basics/histograms/"
   ]
  }
 ],
 "metadata": {
  "kernelspec": {
   "display_name": "Python 3.8.1 32-bit",
   "language": "python",
   "name": "python38132bitf9f79e71b62e4503b25567c1d3914456"
  },
  "language_info": {
   "codemirror_mode": {
    "name": "ipython",
    "version": 3
   },
   "file_extension": ".py",
   "mimetype": "text/x-python",
   "name": "python",
   "nbconvert_exporter": "python",
   "pygments_lexer": "ipython3",
   "version": "3.8.1"
  }
 },
 "nbformat": 4,
 "nbformat_minor": 4
}
